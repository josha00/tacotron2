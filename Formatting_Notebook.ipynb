{
  "cells": [
    {
      "cell_type": "code",
      "execution_count": null,
      "metadata": {
        "id": "lXS1MkPmRQn5"
      },
      "outputs": [],
      "source": [
        "#mount google drive\n",
        "from google.colab import drive\n",
        "drive.mount('drive', force_remount=True)"
      ]
    },
    {
      "cell_type": "code",
      "source": [
        "#change rate and convert .flac to .wav\n",
        "\n",
        "import os\n",
        "import subprocess\n",
        "import random\n",
        "random.seed(0)\n",
        "\n",
        "\n",
        "from pydub import AudioSegment\n",
        "import os\n",
        "\n",
        "input_directory = '/wavs'\n",
        "output_directory = '/wavs2'\n",
        "sample_rate = 22050\n",
        "bit_depth = 16\n",
        "\n",
        "os.makedirs(output_directory, exist_ok=True)\n",
        "\n",
        "\n",
        "audio_files = [entry.name for entry in os.scandir(input_directory)]\n",
        "audio_files.sort()\n",
        "selected_files=audio_files\n",
        "percent=1\n",
        "split_point=round(len(audio_files)*percent)\n",
        "random.shuffle(selected_files)\n",
        "selected_files=selected_files[:split_point]\n",
        "selected_files.sort()\n",
        "amo=len(selected_files)\n",
        "\n",
        "\n",
        "# Convert .flac to  .wav file using pydub\n",
        "for flac_file in selected_files:\n",
        "    input_path = os.path.join(input_directory, flac_file)\n",
        "    output_path = os.path.join(output_directory, os.path.splitext(flac_file)[0] + \".wav\")\n",
        "    audio = AudioSegment.from_file(input_path, format=\"flac\")\n",
        "    converted_audio = audio.set_frame_rate(sample_rate).set_sample_width(bit_depth // 8)\n",
        "    converted_audio.export(output_path, format=\"wav\")\n",
        "\n",
        "    print(f\"Converted {flac_file} successfully.\")\n"
      ],
      "metadata": {
        "id": "mWfiv3kXd45B"
      },
      "execution_count": null,
      "outputs": []
    },
    {
      "cell_type": "code",
      "execution_count": null,
      "metadata": {
        "id": "kS6n782gR8Al"
      },
      "outputs": [],
      "source": [
        "# move files from subdirectories to main directory\n",
        "\n",
        "import os\n",
        "import shutil\n",
        "def move_files(src_dir, dest_dir):\n",
        "    count=0\n",
        "    for foldername, subfolders, filenames in os.walk(src_dir):\n",
        "        for filename in filenames:\n",
        "            count+=1\n",
        "            src_path = os.path.join(foldername, filename)\n",
        "            dest_path = os.path.join(dest_dir, filename)\n",
        "            shutil.move(src_path, dest_path)\n",
        "    print(count)\n",
        "# delete empty directories\n",
        "def delete_empty_dirs(dir_path):\n",
        "    for foldername, subfolders, filenames in os.walk(dir_path, topdown=False):\n",
        "        for subfolder in subfolders:\n",
        "            folder_path = os.path.join(foldername, subfolder)\n",
        "            if not os.listdir(folder_path):\n",
        "                print(foldername)\n",
        "                os.rmdir(folder_path)\n",
        "\n",
        "\n",
        "\n",
        "src_directory = '/content/drive/MyDrive/x/wavs'\n",
        "dest_directory = '/content/drive/MyDrive/x/wavs'\n",
        "\n",
        "move_files(src_directory, dest_directory)\n",
        "delete_empty_dirs(src_directory)\n"
      ]
    },
    {
      "cell_type": "code",
      "source": [
        "#change stereo to mono\n",
        "\n",
        "stereo=False\n",
        "if stereo:\n",
        "    !pip install pydub\n",
        "    from pydub import AudioSegment\n",
        "\n",
        "    audio_directory = '/content/drive/MyDrive/x/wavs'\n",
        "    audio_files = [file for file in os.listdir(audio_directory) if file.endswith(\".wav\")]\n",
        "\n",
        "\n",
        "    for audio_file in audio_files:\n",
        "        input_audio_path = os.path.join(audio_directory, audio_file)\n",
        "\n",
        "        audio = AudioSegment.from_wav(input_audio_path)\n",
        "\n",
        "        # Check if the audio is stereo\n",
        "        if audio.channels >= 2:\n",
        "            # Convert stereo to mono\n",
        "            audio2 = audio.set_channels(1)\n",
        "            output_audio_path = os.path.join(audio_directory, audio_file)\n",
        "            audio2.export(output_audio_path, format=\"wav\")\n",
        "            print(f\"Converted {audio_file} to mono.\")\n",
        "\n",
        "    print(\"Stereo to mono conversion for all files complete.\")\n"
      ],
      "metadata": {
        "id": "rQwwj4_Fsz6l"
      },
      "execution_count": null,
      "outputs": []
    },
    {
      "cell_type": "code",
      "execution_count": null,
      "metadata": {
        "id": "u7TDONu0deX_"
      },
      "outputs": [],
      "source": [
        "#rename files to standardise them (4_speakers database)\n",
        "import os\n",
        "def rename(folder_name):\n",
        "  source_directory = f\"/content/drive/MyDrive/{folder_name}/\"\n",
        "\n",
        "  file_list = os.listdir(source_directory)\n",
        "\n",
        "  for old_name in file_list:\n",
        "    if old_name.endswith(\".wav\") and len(old_name)>8:\n",
        "        new_name=old_name[-8:]  # retain 1234.wav in name\n",
        "        old_path = os.path.join(source_directory, old_name)\n",
        "        new_path = os.path.join(source_directory, new_name)\n",
        "        # Rename the file\n",
        "        os.rename(old_path, new_path)\n",
        "        print(f\"Renamed: {old_name} -> {new_name}\")\n",
        "rename('4_speakers/x/wavs')"
      ]
    },
    {
      "cell_type": "code",
      "source": [
        "#delete any lines in list.txt if there is no matching audio pair\n",
        "def delete_lines(transcript):\n",
        "  with open(transcript, \"r\") as f:\n",
        "    lines = f.readlines()\n",
        "\n",
        "  adjusted_lines = []\n",
        "  for line in lines:\n",
        "      path_to_audio = '/content/tacotron2/'+ line.split('|')[0][:-4] + '.wav'\n",
        "      if os.path.exists(path_to_audio):\n",
        "          adjusted_lines.append(line)\n",
        "      if not os.path.exists(path_to_audio):\n",
        "          print(path_to_audio)\n",
        "\n",
        "  with open(transcript, \"w\") as f:\n",
        "    f.writelines(adjusted_lines)\n",
        "\n",
        "delete_lines(\"/content/tacotron2/filelists/list.txt\")\n"
      ],
      "metadata": {
        "id": "q5-yRRove-Qb"
      },
      "execution_count": null,
      "outputs": []
    },
    {
      "cell_type": "code",
      "source": [
        "#split files into train and validate\n",
        "\n",
        "with open('/content/tacotron2/filelists/list.txt', 'r') as list_file:\n",
        "  wav_files = [line.strip() for line in list_file]\n",
        "\n",
        "random.shuffle(wav_files)\n",
        "train_to=round(len(wav_files)*.8)\n",
        "\n",
        "\n",
        "# Create train_files.txt\n",
        "train_files = wav_files[:train_to]\n",
        "train_files.sort()\n",
        "with open(os.path.join('filelists', 'train_files.txt'), 'w') as f_train:\n",
        "    for filename in train_files:\n",
        "        f_train.write(os.path.join(filename) + '\\n')\n",
        "\n",
        "# Create val_files.txt\n",
        "val_files = wav_files[train_to:]\n",
        "val_files.sort()\n",
        "with open(os.path.join('filelists', 'val_files.txt'), 'w') as f_val:\n",
        "    for filename in val_files:\n",
        "        f_val.write(os.path.join(filename) + '\\n')\n"
      ],
      "metadata": {
        "id": "-lJAXxGTRTUV"
      },
      "execution_count": null,
      "outputs": []
    },
    {
      "cell_type": "code",
      "execution_count": null,
      "metadata": {
        "id": "gQJFyRopeV6a"
      },
      "outputs": [],
      "source": [
        "#fix the 4_speakers database transcription format\n",
        "input_file = \"/content/drive/MyDrive/4_speakers/metadata.txt\"\n",
        "output_file = \"/content/drive/MyDrive/4_speakers/list.txt\"\n",
        "\n",
        "with open(input_file, \"r\") as f:\n",
        "    lines = f.readlines()\n",
        "\n",
        "modified_lines = []\n",
        "\n",
        "for line in lines:\n",
        "    characters_to_remove = 16\n",
        "    number=line[10:14]\n",
        "    line = line.replace(line[:16],number)\n",
        "\n",
        "    line=line[:-5]\n",
        "\n",
        "    modified_lines.append(line + \"\\n\")\n",
        "\n",
        "with open(output_file, \"w\") as f:\n",
        "    f.writelines(modified_lines)\n",
        "\n",
        "print(\"File modified and saved as\", output_file)\n"
      ]
    },
    {
      "cell_type": "code",
      "source": [
        "#fix VCTK file names\n",
        "\n",
        "if choosedata=='vctk':\n",
        "    folder_path = 'wavs'\n",
        "    files = os.listdir(folder_path)\n",
        "\n",
        "    for filename in files:\n",
        "        if filename.endswith(\"_mic1.wav\"):\n",
        "            new_filename = filename.replace(\"_mic1.wav\", \".wav\")\n",
        "            old_path = os.path.join(folder_path, filename)\n",
        "            new_path = os.path.join(folder_path, new_filename)\n",
        "            os.rename(old_path, new_path)\n",
        "            print(f\"Renamed: {filename} to {new_filename}\")\n"
      ],
      "metadata": {
        "id": "kH2xMKF5hyQr"
      },
      "execution_count": null,
      "outputs": []
    },
    {
      "cell_type": "code",
      "source": [
        "#change audio formtat (bits per sample and sample rate), also only take a percentage of files\n",
        "\n",
        "import subprocess\n",
        "!apt-get -qq install sox\n",
        "import wave\n",
        "import os\n",
        "import random\n",
        "random.seed(0)\n",
        "\n",
        "\n",
        "def convert_audio(input_file_path, output_file_path):\n",
        "    !sox -v 0.95 \"$input_file_path\" -r 22050 -b 16 \"$output_file_path\"\n",
        "\n",
        "def process_audio_files(input_dir, output_dir):\n",
        "\n",
        "    audio_files = os.listdir(input_dir)\n",
        "    audio_files.sort()\n",
        "    selected_files=audio_files\n",
        "    percent=1\n",
        "    split_point=round(len(audio_files)*percent)\n",
        "    random.shuffle(selected_files)\n",
        "    selected_files=selected_files[:split_point]\n",
        "    selected_files.sort()\n",
        "    amo=len(selected_files)\n",
        "\n",
        "    for index, file_name in enumerate(selected_files):\n",
        "        input_file_path = os.path.join(input_dir, file_name)\n",
        "        output_file_path = os.path.join(output_dir, file_name)\n",
        "        convert_audio(input_file_path, output_file_path)\n",
        "        print(f\"file {index} of {amo} format changed\")\n",
        "\n",
        "\n",
        "input_directory = '/content/drive/MyDrive/x/wavs'\n",
        "output_directory = '/content/drive/MyDrive/x/wavs'\n",
        "\n",
        "if not os.path.exists(output_directory):\n",
        "      os.makedirs(output_directory)\n",
        "\n",
        "process_audio_files(input_directory, output_directory)\n"
      ],
      "metadata": {
        "id": "utI6qu5Cmrk1"
      },
      "execution_count": null,
      "outputs": []
    },
    {
      "cell_type": "code",
      "source": [
        "#format LibriSPeech transcript\n",
        "input_file = 'oldlist.txt'\n",
        "output_file = 'list.txt'\n",
        "\n",
        "with open(input_file, 'r') as infile, open(output_file, 'w') as outfile:\n",
        "    for line in infile:\n",
        "        line = line.strip()\n",
        "        parts = line.split(' ', 1)  # Split the line into two parts at the first space\n",
        "        if len(parts) == 2:\n",
        "            number, text = parts\n",
        "            new_line = f'wavs/{number}.npy|{text}'  # Create new line format\n",
        "            outfile.write(new_line + '\\n')  # Write the new line to the output file\n",
        "\n",
        "print(f\"Conversion completed. Output saved to '{output_file}'\")\n"
      ],
      "metadata": {
        "id": "SnIXhI3nHNUY"
      },
      "execution_count": null,
      "outputs": []
    },
    {
      "cell_type": "code",
      "source": [
        "#TRIM OUT SILENCE from beginning and end of clips\n",
        "\n",
        "!pip install pydub\n",
        "from pydub import AudioSegment\n",
        "from pydub.silence import detect_leading_silence, detect_leading_silence\n",
        "\n",
        "def trim_start_and_end(audio_path, output_path, silence_threshold,silence_threshold2):\n",
        "    # Load the audio clip\n",
        "    audio = AudioSegment.from_file(audio_path, format=\"wav\")\n",
        "\n",
        "    # Find the start and end of non-silent sections\n",
        "    start_trim = detect_leading_silence(audio, silence_threshold)\n",
        "    end_trim = detect_leading_silence(audio.reverse(), silence_threshold2)\n",
        "\n",
        "    # Calculate the new audio with trimmed start and end\n",
        "    trimmed_audio = audio[start_trim:len(audio)-end_trim]\n",
        "\n",
        "    # Export the trimmed audio to the specified output path\n",
        "    trimmed_audio.export(output_path, format=\"wav\")\n",
        "\n",
        "input_folder = '/content/drive/MyDrive/wavs'\n",
        "output_folder = '/content/drive/MyDrive/wavs2'\n",
        "\n",
        "if not os.path.exists(output_folder):\n",
        "        os.makedirs(output_folder)\n",
        "\n",
        "for filename in os.listdir(input_folder):\n",
        "        input_audio_path = os.path.join(input_folder, filename)\n",
        "        output_audio_path = os.path.join(output_folder, filename)\n",
        "        trim_start_and_end(input_audio_path, output_audio_path, -40,-50)    #increasing (bringing closer to 0) cuts more audio\n",
        "\n",
        "print(\"Trimming complete.\")"
      ],
      "metadata": {
        "id": "37RmJYOlm_eq"
      },
      "execution_count": null,
      "outputs": []
    },
    {
      "cell_type": "code",
      "source": [
        "#get audio duration\n",
        "import librosa\n",
        "\n",
        "folder_path = \"/content/drive/MyDrive/x/wavs\"\n",
        "total_duration = 0\n",
        "\n",
        "for filename in os.listdir(folder_path):\n",
        "    if filename.endswith(\".wav\"):\n",
        "        audio_file = os.path.join(folder_path, filename)\n",
        "        y, sr = librosa.load(audio_file)\n",
        "        duration = librosa.get_duration(y=y, sr=sr)\n",
        "        total_duration += duration\n",
        "\n",
        "print(f\"Total Duration of Audio Clips: {total_duration/60} minutes\")\n"
      ],
      "metadata": {
        "id": "TBUIuR3_d26V"
      },
      "execution_count": null,
      "outputs": []
    },
    {
      "cell_type": "code",
      "source": [
        "#remove duplicates from list.txt\n",
        "input_file = '/content/drive/MyDrive/libri/list.txt'\n",
        "output_file = '/content/drive/MyDrive/libri/list.txt'\n",
        "\n",
        "unique_lines = set()\n",
        "with open(input_file, 'r') as infile:\n",
        "    for line in infile:\n",
        "        line = line.strip()\n",
        "        if line not in unique_lines:\n",
        "            unique_lines.add(line)\n",
        "\n",
        "with open(output_file, 'w') as outfile:\n",
        "    outfile.write('\\n'.join(unique_lines))\n"
      ],
      "metadata": {
        "id": "iZrIEZCBbqvf"
      },
      "execution_count": null,
      "outputs": []
    }
  ],
  "metadata": {
    "colab": {
      "provenance": []
    },
    "kernelspec": {
      "display_name": "Python 3",
      "name": "python3"
    },
    "language_info": {
      "name": "python"
    }
  },
  "nbformat": 4,
  "nbformat_minor": 0
}